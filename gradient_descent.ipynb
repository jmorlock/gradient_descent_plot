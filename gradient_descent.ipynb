{
 "cells": [
  {
   "cell_type": "markdown",
   "id": "b36d3da7-bc5b-42dc-a038-ced11e607830",
   "metadata": {},
   "source": [
    "# Gradient Descend Plot"
   ]
  },
  {
   "cell_type": "code",
   "execution_count": null,
   "id": "c28b6551-a889-495a-8a12-38d661c78dfb",
   "metadata": {
    "tags": []
   },
   "outputs": [],
   "source": [
    "%pip install matplotlib scipy"
   ]
  },
  {
   "cell_type": "markdown",
   "id": "e480d3cb-76f2-4a1b-a199-284c0396d7ca",
   "metadata": {},
   "source": [
    "Definition of the function to visualize:"
   ]
  },
  {
   "cell_type": "code",
   "execution_count": null,
   "id": "6a13416f-12c6-4df1-be37-bf5a011ec002",
   "metadata": {
    "tags": []
   },
   "outputs": [],
   "source": [
    "import numpy as np\n",
    "\n",
    "\n",
    "def f(x, y):\n",
    "    return np.sin(2 * -x) * np.cos(1.5 * y)"
   ]
  },
  {
   "cell_type": "markdown",
   "id": "129355b1-78e0-428f-acf7-f46af3a7bc04",
   "metadata": {},
   "source": [
    "Start position"
   ]
  },
  {
   "cell_type": "code",
   "execution_count": null,
   "id": "55178a42-ef11-401e-8de0-c5ca05d5cd36",
   "metadata": {
    "tags": []
   },
   "outputs": [],
   "source": [
    "x0 = (-0.75, 0.1)"
   ]
  },
  {
   "cell_type": "markdown",
   "id": "5d6f8285-f855-496f-84ee-7f31364bda60",
   "metadata": {},
   "source": [
    "See [scipy.optimize.minimize](https://docs.scipy.org/doc/scipy/reference/generated/scipy.optimize.minimize.html)\n",
    "\n",
    "Most methods converge within a few steps. I chose \"Nelder-Mead\" in order to have enough steps to plot."
   ]
  },
  {
   "cell_type": "code",
   "execution_count": null,
   "id": "70605257-b68a-4482-80e3-28941443c00c",
   "metadata": {
    "tags": []
   },
   "outputs": [],
   "source": [
    "from scipy.optimize import minimize\n",
    "\n",
    "\n",
    "steps = [x0]\n",
    "\n",
    "\n",
    "def callbackF(xi):\n",
    "    steps.append(xi)\n",
    "\n",
    "\n",
    "minimize(lambda x: f(x[0], x[1]), x0, method=\"Nelder-Mead\", callback=callbackF)"
   ]
  },
  {
   "cell_type": "code",
   "execution_count": null,
   "id": "2a855f97-e58c-42aa-b4dc-fc65e14efd26",
   "metadata": {
    "tags": []
   },
   "outputs": [],
   "source": [
    "steps"
   ]
  },
  {
   "cell_type": "code",
   "execution_count": null,
   "id": "51e5e96d-7ef6-436e-96ba-b359c008f52c",
   "metadata": {
    "tags": []
   },
   "outputs": [],
   "source": [
    "x_minimizer, y_minimizer, z_minimizer = [], [], []\n",
    "\n",
    "for x in steps:\n",
    "    x_minimizer.append(x[0])\n",
    "    y_minimizer.append(x[1])\n",
    "    z_minimizer.append(f(*x))"
   ]
  },
  {
   "cell_type": "code",
   "execution_count": null,
   "id": "15c27838-17a0-4270-b589-728965263eea",
   "metadata": {
    "tags": []
   },
   "outputs": [],
   "source": [
    "CMAP = \"viridis\"  # \"autumn_r\""
   ]
  },
  {
   "cell_type": "code",
   "execution_count": null,
   "id": "a16ee797-5a45-4411-bba0-829223b49f3f",
   "metadata": {
    "tags": []
   },
   "outputs": [],
   "source": [
    "import numpy as np\n",
    "import matplotlib.pyplot as plt\n",
    "from mpl_toolkits.mplot3d import Axes3D\n",
    "\n",
    "# data for the surface\n",
    "x = np.linspace(-1, 1, 100)\n",
    "X, Y = np.meshgrid(x, x)\n",
    "Z = f(X, Y)\n",
    "\n",
    "fig = plt.figure(figsize=(10, 12))\n",
    "\n",
    "ax = plt.axes(projection=\"3d\", computed_zorder=False)\n",
    "ax.plot(x_minimizer, y_minimizer, z_minimizer, \"ro-\", alpha=0.5, zorder=1)\n",
    "ax.set_box_aspect(None, zoom=0.8)\n",
    "\n",
    "ax.plot_surface(X, Y, Z, rstride=1, cstride=1, cmap=CMAP, edgecolor=\"none\", zorder=-1)\n",
    "\n",
    "ax.contour(X, Y, Z, 10, cmap=CMAP, linestyles=\"solid\", offset=-1, zorder=-2)\n",
    "\n",
    "ax.xaxis.set_rotate_label(False)\n",
    "ax.yaxis.set_rotate_label(False)\n",
    "ax.zaxis.set_rotate_label(False)\n",
    "\n",
    "ax.set_xlabel(\"$a_0$\", labelpad=10)\n",
    "ax.set_ylabel(\"$a_1$\", labelpad=10)\n",
    "ax.set_zlabel(\"$J(a_0, a_1)$\", labelpad=16)\n",
    "\n",
    "plt.savefig(\"gradient_descend.png\", bbox_inches=\"tight\")"
   ]
  }
 ],
 "metadata": {
  "kernelspec": {
   "display_name": "Python 3 (ipykernel)",
   "language": "python",
   "name": "python3"
  },
  "language_info": {
   "codemirror_mode": {
    "name": "ipython",
    "version": 3
   },
   "file_extension": ".py",
   "mimetype": "text/x-python",
   "name": "python",
   "nbconvert_exporter": "python",
   "pygments_lexer": "ipython3",
   "version": "3.8.10"
  }
 },
 "nbformat": 4,
 "nbformat_minor": 5
}
